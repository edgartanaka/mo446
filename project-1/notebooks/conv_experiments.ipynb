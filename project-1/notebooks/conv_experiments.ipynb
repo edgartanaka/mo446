{
 "cells": [
  {
   "cell_type": "code",
   "execution_count": 1,
   "metadata": {},
   "outputs": [],
   "source": [
    "from convolution import *\n",
    "import time"
   ]
  },
  {
   "cell_type": "code",
   "execution_count": 2,
   "metadata": {},
   "outputs": [],
   "source": [
    "def timeit(method):\n",
    "    def timed(*args, **kw):\n",
    "        ts = time.time()\n",
    "        result = method(*args, **kw)\n",
    "        te = time.time()\n",
    "        if 'log_time' in kw:\n",
    "            name = kw.get('log_name', method.__name__)\n",
    "            kw['log_time'][name] = (te - ts) * 1000 #ms\n",
    "        return result\n",
    "    return timed"
   ]
  },
  {
   "cell_type": "code",
   "execution_count": 3,
   "metadata": {},
   "outputs": [],
   "source": [
    "@timeit\n",
    "def myconv_exp_1(**kwargs):\n",
    "    # sharpen\n",
    "    kernel = np.array([ [0, -1, 0],\n",
    "                        [-1, 5, -1],\n",
    "                        [0, -1, 0]])\n",
    "    \n",
    "    img = cv2.imread('../input/img-2_1.jpg',cv2.IMREAD_COLOR)\n",
    "    output = conv_2d(img,kernel)\n",
    "    \n",
    "    cv2.imwrite('../output/img-2_1.jpg',output)"
   ]
  },
  {
   "cell_type": "code",
   "execution_count": 4,
   "metadata": {},
   "outputs": [],
   "source": [
    "@timeit\n",
    "def myconv_exp_2(**kwargs):\n",
    "    # emboss    \n",
    "    kernel = np.array([ [-2, -1, 0],\n",
    "                        [-1, 1, 1],\n",
    "                        [0, 1, 2]])\n",
    "    \n",
    "    img = cv2.imread('../input/img-2_2.jpg',cv2.IMREAD_COLOR)\n",
    "    output = conv_2d(img,kernel)\n",
    "    \n",
    "    cv2.imwrite('../output/img-2_2.jpg',output)"
   ]
  },
  {
   "cell_type": "code",
   "execution_count": 5,
   "metadata": {},
   "outputs": [],
   "source": [
    "@timeit\n",
    "def myconv_exp_3(**kwargs):\n",
    "    # unsharp masking\n",
    "    kernel = -1/256* np.array([ [1, 4, 6, 4, 1],\n",
    "                                [4, 16, 24, 16, 4],\n",
    "                                [6, 24, -476, 24, 6],\n",
    "                                [4, 16, 24, 16, 4],\n",
    "                                [1, 4, 6, 4, 1]])\n",
    "    \n",
    "    img = cv2.imread('../input/img-2_3.jpg',cv2.IMREAD_COLOR)\n",
    "    output = conv_2d(img,kernel)\n",
    "    \n",
    "    cv2.imwrite('../output/img-2_3.jpg',output)"
   ]
  },
  {
   "cell_type": "code",
   "execution_count": 6,
   "metadata": {},
   "outputs": [],
   "source": [
    "@timeit\n",
    "def myconv_exp_4(**kwargs):\n",
    "    # gaussian blur\n",
    "    \n",
    "    kernel = np.array([ [0.000036,0.000363,0.001446,0.002291,0.001446,0.000363,0.000036],\n",
    "                        [0.000363,0.003676,0.014662,0.023226,0.014662,0.003676,0.000363],\n",
    "                        [0.001446,0.014662,0.058488,0.092651,0.058488,0.014662,0.001446],\n",
    "                        [0.002291,0.023226,0.092651,0.146768,0.092651,0.023226,0.002291],\n",
    "                        [0.001446,0.014662,0.058488,0.092651,0.058488,0.014662,0.001446],\n",
    "                        [0.000363,0.003676,0.014662,0.023226,0.014662,0.003676,0.000363],\n",
    "                        [0.000036,0.000363,0.001446,0.002291,0.001446,0.000363,0.000036]])\n",
    "    \n",
    "    img = cv2.imread('../input/img-2_4.jpg',cv2.IMREAD_COLOR)\n",
    "    output = conv_2d(img,kernel)\n",
    "    \n",
    "    cv2.imwrite('../output/img-2_4.jpg',output)"
   ]
  },
  {
   "cell_type": "code",
   "execution_count": 7,
   "metadata": {},
   "outputs": [],
   "source": [
    "@timeit\n",
    "def cv_exp_1(**kwargs):\n",
    "    # sharpen\n",
    "    kernel = np.array([ [0, -1, 0],\n",
    "                        [-1, 5, -1],\n",
    "                        [0, -1, 0]])\n",
    "    \n",
    "    img = cv2.imread('../input/img-2_1.jpg',cv2.IMREAD_COLOR)\n",
    "    output = cv2.filter2D(img,-1,kernel)\n",
    "    \n",
    "    cv2.imwrite('../output/img-2_1_cv.jpg',output)"
   ]
  },
  {
   "cell_type": "code",
   "execution_count": 8,
   "metadata": {},
   "outputs": [],
   "source": [
    "@timeit\n",
    "def cv_exp_2(**kwargs):\n",
    "    # emboss    \n",
    "    kernel = np.array([ [-2, -1, 0],\n",
    "                        [-1, 1, 1],\n",
    "                        [0, 1, 2]])\n",
    "    \n",
    "    img = cv2.imread('../input/img-2_2.jpg',cv2.IMREAD_COLOR)\n",
    "    output = cv2.filter2D(img,-1,kernel)\n",
    "    \n",
    "    cv2.imwrite('../output/img-2_2_cv.jpg',output)"
   ]
  },
  {
   "cell_type": "code",
   "execution_count": 9,
   "metadata": {},
   "outputs": [],
   "source": [
    "@timeit\n",
    "def cv_exp_3(**kwargs):\n",
    "    # unsharp masking\n",
    "    kernel = -1/256* np.array([ [1, 4, 6, 4, 1],\n",
    "                                [4, 16, 24, 16, 4],\n",
    "                                [6, 24, -476, 24, 6],\n",
    "                                [4, 16, 24, 16, 4],\n",
    "                                [1, 4, 6, 4, 1]])\n",
    "    \n",
    "    img = cv2.imread('../input/img-2_3.jpg',cv2.IMREAD_COLOR)\n",
    "    output = cv2.filter2D(img,-1,kernel)\n",
    "    \n",
    "    cv2.imwrite('../output/img-2_3_cv.jpg',output)"
   ]
  },
  {
   "cell_type": "code",
   "execution_count": 10,
   "metadata": {},
   "outputs": [],
   "source": [
    "@timeit\n",
    "def cv_exp_4(**kwargs):\n",
    "    # gaussian blur\n",
    "\n",
    "    kernel = np.array([ [0.000036,0.000363,0.001446,0.002291,0.001446,0.000363,0.000036],\n",
    "                        [0.000363,0.003676,0.014662,0.023226,0.014662,0.003676,0.000363],\n",
    "                        [0.001446,0.014662,0.058488,0.092651,0.058488,0.014662,0.001446],\n",
    "                        [0.002291,0.023226,0.092651,0.146768,0.092651,0.023226,0.002291],\n",
    "                        [0.001446,0.014662,0.058488,0.092651,0.058488,0.014662,0.001446],\n",
    "                        [0.000363,0.003676,0.014662,0.023226,0.014662,0.003676,0.000363],\n",
    "                        [0.000036,0.000363,0.001446,0.002291,0.001446,0.000363,0.000036]])\n",
    "    \n",
    "    img = cv2.imread('../input/img-2_4.jpg',cv2.IMREAD_COLOR)\n",
    "    output = cv2.filter2D(img,-1,kernel)\n",
    "    \n",
    "    cv2.imwrite('../output/img-2_4_cv.jpg',output)"
   ]
  },
  {
   "cell_type": "code",
   "execution_count": 11,
   "metadata": {},
   "outputs": [],
   "source": [
    "logtime_data = {}"
   ]
  },
  {
   "cell_type": "code",
   "execution_count": 12,
   "metadata": {},
   "outputs": [],
   "source": [
    "myconv_exp_1(log_time=logtime_data)\n",
    "myconv_exp_2(log_time=logtime_data)\n",
    "myconv_exp_3(log_time=logtime_data)\n",
    "myconv_exp_4(log_time=logtime_data)"
   ]
  },
  {
   "cell_type": "code",
   "execution_count": 13,
   "metadata": {},
   "outputs": [],
   "source": [
    "cv_exp_1(log_time=logtime_data)\n",
    "cv_exp_2(log_time=logtime_data)\n",
    "cv_exp_3(log_time=logtime_data)\n",
    "cv_exp_4(log_time=logtime_data)"
   ]
  },
  {
   "cell_type": "code",
   "execution_count": 14,
   "metadata": {},
   "outputs": [
    {
     "data": {
      "text/plain": [
       "{'myconv_exp_1': 12220.346450805664,\n",
       " 'myconv_exp_2': 6688.34376335144,\n",
       " 'myconv_exp_3': 4705.052137374878,\n",
       " 'myconv_exp_4': 4941.098928451538,\n",
       " 'cv_exp_1': 18.404483795166016,\n",
       " 'cv_exp_2': 8.85629653930664,\n",
       " 'cv_exp_3': 9.445428848266602,\n",
       " 'cv_exp_4': 10.846853256225586}"
      ]
     },
     "execution_count": 14,
     "metadata": {},
     "output_type": "execute_result"
    }
   ],
   "source": [
    "logtime_data"
   ]
  },
  {
   "cell_type": "code",
   "execution_count": 22,
   "metadata": {},
   "outputs": [],
   "source": [
    "with open(\"../output/2-text_output.txt\",\"w\") as f:\n",
    "    f.write(\"Report on running time of section 2\\n\")\n",
    "    f.write(35*\"=\" + \"\\n\\n\")\n",
    "    for idx,i in enumerate(logtime_data):\n",
    "        expt = i.split(\"exp_\")[-1]\n",
    "        \n",
    "        if \"myconv\" in i:\n",
    "            f.write(\"Our implementation of convolution on experiment {}: {:.3f} ms\".format(expt, logtime_data[i]))\n",
    "        else:    \n",
    "            f.write(\"Opencv implementation of convolution on experiment {}: {:.3f} ms\".format(expt, logtime_data[i]))\n",
    "        \n",
    "        if idx < len(logtime_data) - 1:\n",
    "            f.write(\"\\n\\n\")"
   ]
  },
  {
   "cell_type": "code",
   "execution_count": null,
   "metadata": {},
   "outputs": [],
   "source": []
  }
 ],
 "metadata": {
  "kernelspec": {
   "display_name": "Python 3",
   "language": "python",
   "name": "python3"
  },
  "language_info": {
   "codemirror_mode": {
    "name": "ipython",
    "version": 3
   },
   "file_extension": ".py",
   "mimetype": "text/x-python",
   "name": "python",
   "nbconvert_exporter": "python",
   "pygments_lexer": "ipython3",
   "version": "3.7.0b3"
  }
 },
 "nbformat": 4,
 "nbformat_minor": 2
}

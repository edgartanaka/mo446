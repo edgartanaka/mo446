{
 "cells": [
  {
   "cell_type": "code",
   "execution_count": 1,
   "metadata": {},
   "outputs": [],
   "source": [
    "import numpy as np\n",
    "import cv2"
   ]
  },
  {
   "cell_type": "code",
   "execution_count": 2,
   "metadata": {},
   "outputs": [],
   "source": [
    "# img = cv2.imread('./input/img-2_1.jpg',cv2.IMREAD_COLOR)\n",
    "img = cv2.imread('../input.png',cv2.IMREAD_COLOR)\n",
    "# img = cv2.imread('./input.png',0)"
   ]
  },
  {
   "cell_type": "code",
   "execution_count": 3,
   "metadata": {},
   "outputs": [],
   "source": [
    "# kernel = 1/9*(np.array([[1, 1, 1],\n",
    "#                     [1, 1, 1],\n",
    "#                     [1, 1, 1]]))"
   ]
  },
  {
   "cell_type": "code",
   "execution_count": 4,
   "metadata": {},
   "outputs": [],
   "source": [
    "# kernel = (np.array([[0, -1, 0],\n",
    "#                     [-1, 5, -1],\n",
    "#                     [0, -1, 0]]))"
   ]
  },
  {
   "cell_type": "code",
   "execution_count": 5,
   "metadata": {},
   "outputs": [],
   "source": [
    "# kernel = 1/16*(np.array([[1, 2, 1],\n",
    "#                     [2, 4, 2],\n",
    "#                     [1, 2, 1]]))"
   ]
  },
  {
   "cell_type": "code",
   "execution_count": 6,
   "metadata": {},
   "outputs": [],
   "source": [
    "# kernel = -np.ones((3,3))\n",
    "# kernel[1,1] = 8"
   ]
  },
  {
   "cell_type": "code",
   "execution_count": 7,
   "metadata": {},
   "outputs": [],
   "source": [
    "# kernel = (np.array([[1, 0, -1],\n",
    "#                     [0, 0, 0],\n",
    "#                     [-1, 0, 1]]))"
   ]
  },
  {
   "cell_type": "code",
   "execution_count": 8,
   "metadata": {},
   "outputs": [],
   "source": [
    "kernel = (np.array([[-2, -1, 0],\n",
    "                    [-1, 1, 1],\n",
    "                    [0, 1, 2]]))"
   ]
  },
  {
   "cell_type": "code",
   "execution_count": 9,
   "metadata": {},
   "outputs": [],
   "source": [
    "# dst = cv2.filter2D(img,-1,kernel)\n",
    "# cv2.imwrite('../output_1.png',dst)"
   ]
  },
  {
   "cell_type": "code",
   "execution_count": 10,
   "metadata": {},
   "outputs": [],
   "source": [
    "kernel_height, kernel_width = kernel.shape\n",
    "img_height, img_width = img.shape[:2]"
   ]
  },
  {
   "cell_type": "code",
   "execution_count": 11,
   "metadata": {},
   "outputs": [],
   "source": [
    "if kernel_width%2 == 1:\n",
    "    kerneloffset = (kernel_width - 1)//2\n",
    "else:\n",
    "    pass\n",
    "\n",
    "img_padded = np.zeros((img.shape[0] + kerneloffset + 1, img.shape[1] + kerneloffset + 1,img.shape[-1]))\n",
    "img_padded[kerneloffset:-1, kerneloffset:-1] = img"
   ]
  },
  {
   "cell_type": "code",
   "execution_count": 12,
   "metadata": {},
   "outputs": [],
   "source": [
    "output = np.zeros_like(img)"
   ]
  },
  {
   "cell_type": "code",
   "execution_count": 13,
   "metadata": {},
   "outputs": [],
   "source": [
    "for irow in range(img_height):\n",
    "    for icolumn in range(img_width):\n",
    "        for c in range(img.shape[-1]):\n",
    "            pixel_value = (kernel*img_padded[irow:irow+2*kerneloffset+1,icolumn:icolumn+2*kerneloffset+1,c]).sum()\n",
    "            output[irow,icolumn,c] = 0 if pixel_value < 0 else pixel_value if pixel_value < 255 else 255"
   ]
  },
  {
   "cell_type": "code",
   "execution_count": 14,
   "metadata": {},
   "outputs": [
    {
     "data": {
      "text/plain": [
       "True"
      ]
     },
     "execution_count": 14,
     "metadata": {},
     "output_type": "execute_result"
    }
   ],
   "source": [
    "cv2.imwrite('../output_2.png',output)"
   ]
  }
 ],
 "metadata": {
  "kernelspec": {
   "display_name": "Python 3",
   "language": "python",
   "name": "python3"
  },
  "language_info": {
   "codemirror_mode": {
    "name": "ipython",
    "version": 3
   },
   "file_extension": ".py",
   "mimetype": "text/x-python",
   "name": "python",
   "nbconvert_exporter": "python",
   "pygments_lexer": "ipython3",
   "version": "3.7.0b3"
  }
 },
 "nbformat": 4,
 "nbformat_minor": 2
}

{
 "cells": [
  {
   "cell_type": "code",
   "execution_count": 1,
   "metadata": {},
   "outputs": [],
   "source": [
    "import cv2\n",
    "import numpy as np"
   ]
  },
  {
   "cell_type": "code",
   "execution_count": 2,
   "metadata": {},
   "outputs": [],
   "source": [
    "def conv_img1():\n",
    "    img = cv2.imread('../input/img-3-1-1_1.jpg',0)\n",
    "    \n",
    "    # laplacian of gaussian centered on zero\n",
    "    kernel = np.array([[0, 1, 0],\n",
    "                       [1, -4, 1],\n",
    "                       [0, 1, 0]])\n",
    "    \n",
    "    output = cv2.filter2D(img,-1,kernel)\n",
    "    cv2.imwrite('../output/img-3-1-1_1.jpg',output)"
   ]
  },
  {
   "cell_type": "code",
   "execution_count": 3,
   "metadata": {},
   "outputs": [],
   "source": [
    "def conv_img2():\n",
    "    img = cv2.imread('../input/img-3-1-1_2.jpg',0)\n",
    "    \n",
    "    # sobel Y\n",
    "    kernel = np.array([[1, 2, 1],\n",
    "                       [0, 0, 0],\n",
    "                       [-1, -2, -1]])\n",
    "    \n",
    "    output = cv2.filter2D(img,-1,kernel)\n",
    "    cv2.imwrite('../output/img-3-1-1_2.jpg',output)"
   ]
  },
  {
   "cell_type": "code",
   "execution_count": 4,
   "metadata": {},
   "outputs": [],
   "source": [
    "def conv_img3():\n",
    "    img = cv2.imread('../input/img-3-1-1_3.jpg',0)\n",
    "    \n",
    "    # sobel X\n",
    "    kernel = np.array([[-1, 0, 1],\n",
    "                      [-2, 0, 2],\n",
    "                      [-1, 0, 1]])\n",
    "    \n",
    "    output = cv2.filter2D(img,-1,kernel)\n",
    "    cv2.imwrite('../output/img-3-1-1_3.jpg',output)"
   ]
  },
  {
   "cell_type": "code",
   "execution_count": 5,
   "metadata": {},
   "outputs": [],
   "source": [
    "conv_img1()\n",
    "conv_img2()\n",
    "conv_img3()"
   ]
  },
  {
   "cell_type": "code",
   "execution_count": 71,
   "metadata": {},
   "outputs": [],
   "source": [
    "def canny_img1():\n",
    "    img = cv2.imread('../input/img-3-1-1_1.jpg',0)\n",
    "    \n",
    "    output = cv2.Canny(img,200,500)\n",
    "    \n",
    "    cv2.imwrite('../output/img-3-1-1_1_canny.jpg',output)"
   ]
  },
  {
   "cell_type": "code",
   "execution_count": 79,
   "metadata": {},
   "outputs": [],
   "source": [
    "def canny_img2():\n",
    "    img = cv2.imread('../input/img-3-1-1_2.jpg',0)\n",
    "    \n",
    "    output = cv2.Canny(img,50,300)\n",
    "    \n",
    "    cv2.imwrite('../output/img-3-1-1_2_canny.jpg',output)"
   ]
  },
  {
   "cell_type": "code",
   "execution_count": 80,
   "metadata": {},
   "outputs": [],
   "source": [
    "def canny_img3():\n",
    "    img = cv2.imread('../input/img-3-1-1_3.jpg',0)\n",
    "    \n",
    "    output = cv2.Canny(img,80,100)\n",
    "    \n",
    "    cv2.imwrite('../output/img-3-1-1_3_canny.jpg',output)"
   ]
  },
  {
   "cell_type": "code",
   "execution_count": 81,
   "metadata": {},
   "outputs": [],
   "source": [
    "canny_img1()\n",
    "canny_img2()\n",
    "canny_img3()"
   ]
  },
  {
   "cell_type": "code",
   "execution_count": null,
   "metadata": {},
   "outputs": [],
   "source": []
  }
 ],
 "metadata": {
  "kernelspec": {
   "display_name": "Python 3",
   "language": "python",
   "name": "python3"
  },
  "language_info": {
   "codemirror_mode": {
    "name": "ipython",
    "version": 3
   },
   "file_extension": ".py",
   "mimetype": "text/x-python",
   "name": "python",
   "nbconvert_exporter": "python",
   "pygments_lexer": "ipython3",
   "version": "3.7.0b3"
  }
 },
 "nbformat": 4,
 "nbformat_minor": 2
}

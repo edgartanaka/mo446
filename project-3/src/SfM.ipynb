{
 "cells": [
  {
   "cell_type": "code",
   "execution_count": 29,
   "metadata": {},
   "outputs": [],
   "source": [
    "import cv2\n",
    "import numpy as np\n",
    "import matplotlib.pyplot as plt\n",
    "\n",
    "import pandas as pd\n",
    "from pyntcloud import PyntCloud "
   ]
  },
  {
   "cell_type": "code",
   "execution_count": 2,
   "metadata": {},
   "outputs": [],
   "source": [
    "cap = cv2.VideoCapture('../../test.mp4')\n",
    "n_frames = int(cap.get(cv2.CAP_PROP_FRAME_COUNT))\n",
    "\n",
    "# params for ShiTomasi corner detection\n",
    "feature_params = dict( maxCorners = 100,\n",
    "                       qualityLevel = 0.3,\n",
    "                       minDistance = 7,\n",
    "                       blockSize = 7 )\n",
    "\n",
    "# Parameters for lucas kanade optical flow\n",
    "lk_params = dict( winSize  = (15,15),\n",
    "                  maxLevel = 2,\n",
    "                  criteria = (cv2.TERM_CRITERIA_EPS | cv2.TERM_CRITERIA_COUNT, 10, 0.03))\n",
    "\n",
    "# Create some random colors\n",
    "color = np.random.randint(0,255,(100,3))\n",
    "\n",
    "# Take first frame and find corners in it\n",
    "ret, old_frame = cap.read()\n",
    "old_gray = cv2.cvtColor(old_frame, cv2.COLOR_BGR2GRAY)\n",
    "p0 = cv2.goodFeaturesToTrack(old_gray, mask = None, **feature_params)\n",
    "\n",
    "U = np.zeros((n_frames, p0.shape[0]))\n",
    "V = np.zeros((n_frames, p0.shape[0]))\n",
    "\n",
    "S = np.ones((p0.shape[0],1))\n",
    "\n",
    "U[0,:] = p0[:,0,0]\n",
    "V[0,:] = p0[:,0,1]\n",
    "\n",
    "# Create a mask image for drawing purposes\n",
    "mask = np.zeros_like(old_frame)\n",
    "loops = 0\n",
    "good_features = [p0]\n",
    "\n",
    "ret,frame = cap.read()\n",
    "\n",
    "while frame is not None:\n",
    "    frame_gray = cv2.cvtColor(frame, cv2.COLOR_BGR2GRAY)\n",
    "    \n",
    "    # calculate optical flow\n",
    "    p1, st, err = cv2.calcOpticalFlowPyrLK(old_gray, frame_gray, p0, None, **lk_params)\n",
    "#     print(st.shape)\n",
    "    # Select good points\n",
    "    good_new = p1[st==1]\n",
    "    good_old = p0[st==1]\n",
    "#     print(good_new.shape)\n",
    "    U[loops, :] = good_new[:, 0]\n",
    "    V[loops, :] = good_new[:, 1]\n",
    "    \n",
    "    # draw the tracks\n",
    "#     for i,(new,old) in enumerate(zip(good_new,good_old)):\n",
    "#         a,b = new.ravel()\n",
    "#         c,d = old.ravel()\n",
    "#         mask = cv2.line(mask, (a,b),(c,d), color[i].tolist(), 2)\n",
    "#         frame = cv2.circle(frame,(a,b),5,color[i].tolist(),-1)\n",
    "    \n",
    "#     img = cv2.add(frame,mask)\n",
    "#     cv2.imwrite(\"../output/frame_{}.png\".format(loops), img)\n",
    "    \n",
    "    # Now update the previous frame and previous points\n",
    "    old_gray = frame_gray.copy()\n",
    "    p0 = good_new.reshape(-1,1,2)\n",
    "    good_features.append(p0)\n",
    "    \n",
    "    ret,frame = cap.read()\n",
    "    loops += 1\n",
    "    \n",
    "cap.release()"
   ]
  },
  {
   "cell_type": "code",
   "execution_count": 3,
   "metadata": {},
   "outputs": [
    {
     "data": {
      "text/plain": [
       "(83, 62, 2)"
      ]
     },
     "execution_count": 3,
     "metadata": {},
     "output_type": "execute_result"
    }
   ],
   "source": [
    "frames = np.array(good_features).squeeze(2)\n",
    "frames.shape"
   ]
  },
  {
   "cell_type": "code",
   "execution_count": 4,
   "metadata": {},
   "outputs": [],
   "source": [
    "W = np.concatenate((U,V), axis=0)"
   ]
  },
  {
   "cell_type": "code",
   "execution_count": 5,
   "metadata": {},
   "outputs": [
    {
     "data": {
      "text/plain": [
       "(166, 62)"
      ]
     },
     "execution_count": 5,
     "metadata": {},
     "output_type": "execute_result"
    }
   ],
   "source": [
    "W.shape"
   ]
  },
  {
   "cell_type": "code",
   "execution_count": 6,
   "metadata": {},
   "outputs": [
    {
     "data": {
      "text/plain": [
       "array([[ 528.25891113,  524.25494385, 1366.23425293, ..., 1361.25024414,\n",
       "         503.29119873, 1283.1697998 ],\n",
       "       [ 527.92443848,  523.90515137, 1366.06445312, ..., 1361.05847168,\n",
       "         503.02612305, 1283.02246094],\n",
       "       [ 527.41503906,  523.41973877, 1365.68103027, ..., 1360.73522949,\n",
       "         502.49887085, 1282.63000488],\n",
       "       ...,\n",
       "       [ 499.19107056,  505.43313599,  257.51379395, ...,  305.41717529,\n",
       "         454.51022339,  395.85070801],\n",
       "       [ 501.57394409,  507.9130249 ,  258.05737305, ...,  305.96243286,\n",
       "         456.88049316,  396.76287842],\n",
       "       [   0.        ,    0.        ,    0.        , ...,    0.        ,\n",
       "           0.        ,    0.        ]])"
      ]
     },
     "execution_count": 6,
     "metadata": {},
     "output_type": "execute_result"
    }
   ],
   "source": [
    "W"
   ]
  },
  {
   "cell_type": "code",
   "execution_count": 7,
   "metadata": {},
   "outputs": [
    {
     "data": {
      "text/plain": [
       "(166, 62)"
      ]
     },
     "execution_count": 7,
     "metadata": {},
     "output_type": "execute_result"
    }
   ],
   "source": [
    "W.shape"
   ]
  },
  {
   "cell_type": "code",
   "execution_count": 8,
   "metadata": {},
   "outputs": [
    {
     "data": {
      "text/plain": [
       "(166, 1)"
      ]
     },
     "execution_count": 8,
     "metadata": {},
     "output_type": "execute_result"
    }
   ],
   "source": [
    "a_f = np.mean(W, axis=1).reshape(-1, 1)\n",
    "a_f.shape"
   ]
  },
  {
   "cell_type": "code",
   "execution_count": 9,
   "metadata": {},
   "outputs": [],
   "source": [
    "W = W - a_f"
   ]
  },
  {
   "cell_type": "code",
   "execution_count": 10,
   "metadata": {},
   "outputs": [],
   "source": [
    "U, S, V_t = np.linalg.svd(W)"
   ]
  },
  {
   "cell_type": "code",
   "execution_count": 11,
   "metadata": {},
   "outputs": [
    {
     "data": {
      "text/plain": [
       "((166, 166), (62,), (62, 62))"
      ]
     },
     "execution_count": 11,
     "metadata": {},
     "output_type": "execute_result"
    }
   ],
   "source": [
    "U.shape, S.shape, V_t.shape"
   ]
  },
  {
   "cell_type": "code",
   "execution_count": 12,
   "metadata": {},
   "outputs": [],
   "source": [
    "U_ = U[:,:3]\n",
    "S_ = np.diag(S[:3])\n",
    "V_ = V_t[:3,:]"
   ]
  },
  {
   "cell_type": "code",
   "execution_count": 13,
   "metadata": {},
   "outputs": [],
   "source": [
    "M_h = U_ # R*\n",
    "S_h = S_ @ V_ # S*"
   ]
  },
  {
   "cell_type": "code",
   "execution_count": 14,
   "metadata": {},
   "outputs": [],
   "source": [
    "Is = M_h[:n_frames, :]\n",
    "Js = M_h[n_frames:, :]"
   ]
  },
  {
   "cell_type": "code",
   "execution_count": 15,
   "metadata": {},
   "outputs": [],
   "source": [
    "func = lambda x, y: (x[0] * y[0],\n",
    "                         x[0] * y[1] + x[1] * y[0],\n",
    "                         x[0] * y[2] + x[2] * y[0],\n",
    "                         x[1] * y[1],\n",
    "                         x[1] * y[2] + x[2] * y[1],\n",
    "                         x[2] * y[2])\n",
    "\n",
    "G = np.zeros((3 * n_frames, 6))"
   ]
  },
  {
   "cell_type": "code",
   "execution_count": 16,
   "metadata": {},
   "outputs": [
    {
     "data": {
      "text/plain": [
       "((249, 6), (83, 3), (83, 3))"
      ]
     },
     "execution_count": 16,
     "metadata": {},
     "output_type": "execute_result"
    }
   ],
   "source": [
    "G.shape,Is.shape,Js.shape"
   ]
  },
  {
   "cell_type": "code",
   "execution_count": 17,
   "metadata": {
    "scrolled": true
   },
   "outputs": [],
   "source": [
    "for f in range(3 * n_frames):\n",
    "    if f < n_frames:\n",
    "        G[f, :] = func(Is[f, :], Is[f, :])\n",
    "    elif f < 2 * n_frames:\n",
    "        G[f, :] = func(Js[(f % (n_frames)), :],\n",
    "                       Js[(f % (n_frames)), :])\n",
    "    else:\n",
    "        G[f, :] = func(Is[(f % (2 * n_frames)), :],\n",
    "                       Js[(f % (2 * n_frames)), :])\n",
    "\n",
    "c = np.concatenate((np.ones((2 * n_frames, 1)), np.zeros((n_frames, 1))))"
   ]
  },
  {
   "cell_type": "code",
   "execution_count": 18,
   "metadata": {},
   "outputs": [
    {
     "name": "stderr",
     "output_type": "stream",
     "text": [
      "/usr/local/lib/python3.7/dist-packages/ipykernel_launcher.py:1: FutureWarning: `rcond` parameter will change to the default of machine precision times ``max(M, N)`` where M and N are the input matrix dimensions.\n",
      "To use the future default and silence this warning we advise to pass `rcond=None`, to keep using the old, explicitly pass `rcond=-1`.\n",
      "  \"\"\"Entry point for launching an IPython kernel.\n"
     ]
    }
   ],
   "source": [
    "l = np.linalg.lstsq(G, c)[0]"
   ]
  },
  {
   "cell_type": "code",
   "execution_count": 19,
   "metadata": {},
   "outputs": [],
   "source": [
    "def squarer(array):\n",
    "    n = int(np.sqrt(array.size*2))\n",
    "    R,C = np.triu_indices(n)\n",
    "    out = np.zeros((n,n))\n",
    "    out[R,C] = array\n",
    "    out[C,R] = array\n",
    "    return out"
   ]
  },
  {
   "cell_type": "code",
   "execution_count": 20,
   "metadata": {},
   "outputs": [],
   "source": [
    "L = squarer(l.reshape(-1))"
   ]
  },
  {
   "cell_type": "code",
   "execution_count": 21,
   "metadata": {},
   "outputs": [],
   "source": [
    "Q = np.linalg.cholesky(L)\n",
    "\n",
    "M = M_h @ Q\n",
    "S = np.linalg.inv(Q) @ S_h"
   ]
  },
  {
   "cell_type": "code",
   "execution_count": 22,
   "metadata": {},
   "outputs": [
    {
     "data": {
      "text/plain": [
       "(166, 3)"
      ]
     },
     "execution_count": 22,
     "metadata": {},
     "output_type": "execute_result"
    }
   ],
   "source": [
    "M.shape"
   ]
  },
  {
   "cell_type": "code",
   "execution_count": 23,
   "metadata": {},
   "outputs": [
    {
     "data": {
      "text/plain": [
       "(3, 62)"
      ]
     },
     "execution_count": 23,
     "metadata": {},
     "output_type": "execute_result"
    }
   ],
   "source": [
    "S.shape"
   ]
  },
  {
   "cell_type": "code",
   "execution_count": 27,
   "metadata": {},
   "outputs": [],
   "source": [
    "cloud = PyntCloud(pd.DataFrame(\n",
    "    data=np.hstack((S.T, 255*np.ones((S.T.shape[0],3)))),\n",
    "    columns=[\"x\", \"y\", \"z\", \"red\", \"green\", \"blue\"]))\n",
    "\n",
    "cloud.to_file(\"../output/output.ply\")\n",
    "# Open using meshlab"
   ]
  },
  {
   "cell_type": "code",
   "execution_count": null,
   "metadata": {},
   "outputs": [],
   "source": []
  }
 ],
 "metadata": {
  "kernelspec": {
   "display_name": "Python 3",
   "language": "python",
   "name": "python3"
  },
  "language_info": {
   "codemirror_mode": {
    "name": "ipython",
    "version": 3
   },
   "file_extension": ".py",
   "mimetype": "text/x-python",
   "name": "python",
   "nbconvert_exporter": "python",
   "pygments_lexer": "ipython3",
   "version": "3.7.0b3"
  }
 },
 "nbformat": 4,
 "nbformat_minor": 2
}

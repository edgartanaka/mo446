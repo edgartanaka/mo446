{
 "cells": [
  {
   "cell_type": "code",
   "execution_count": 1,
   "metadata": {},
   "outputs": [],
   "source": [
    "import numpy as np\n",
    "import cv2\n",
    "import imutils"
   ]
  },
  {
   "cell_type": "code",
   "execution_count": 2,
   "metadata": {},
   "outputs": [],
   "source": [
    "class ShapeDetector:\n",
    "    def __init__(self):\n",
    "        pass\n",
    " \n",
    "    def detect(self, c):\n",
    "        # initialize the shape name and approximate the contour\n",
    "        shape = \"unidentified\"\n",
    "        peri = cv2.arcLength(c, True)\n",
    "        approx = cv2.approxPolyDP(c, 0.04 * peri, True)\n",
    "\n",
    "        if len(approx) == 4:\n",
    "            # compute the bounding box of the contour and use the\n",
    "            # bounding box to compute the aspect ratio\n",
    "            (x, y, w, h) = cv2.boundingRect(approx)\n",
    "            ar = w / float(h)\n",
    " \n",
    "            # a square will have an aspect ratio that is approximately\n",
    "            # equal to one, otherwise, the shape is a rectangle\n",
    "            shape = \"square\" if ar >= 0.95 and ar <= 1.05 else \"rectangle\"\n",
    " \n",
    "        # return the name of the shape\n",
    "        return shape"
   ]
  },
  {
   "cell_type": "code",
   "execution_count": 20,
   "metadata": {},
   "outputs": [],
   "source": [
    "def detect(image,frame_counter,get_size):\n",
    "    H_MIN,S_MIN,V_MIN = 0,0,0\n",
    "    H_MAX,S_MAX,V_MAX = 180,255,200\n",
    "    \n",
    "    resized = imutils.resize(image, width=300)\n",
    "    ratio = image.shape[0] / float(resized.shape[0])\n",
    "\n",
    "    # convert the resized image to hsv and threshold it\n",
    "    \n",
    "    hsv = cv2.cvtColor(resized, cv2.COLOR_BGR2HSV)\n",
    "    thresh = cv2.inRange(hsv,(H_MIN,S_MIN,V_MIN),(H_MAX,S_MAX,V_MAX))   \n",
    "\n",
    "    # find contours in the thresholded image and initialize the\n",
    "    # shape detector\n",
    "    cnts = cv2.findContours(thresh.copy(), cv2.RETR_EXTERNAL,\n",
    "        cv2.CHAIN_APPROX_SIMPLE)\n",
    "    cnts = cnts[0] if imutils.is_cv2() else cnts[1]\n",
    "    sd = ShapeDetector()\n",
    "    \n",
    "    for c in cnts:\n",
    "        # compute the center of the contour, then detect the name of the\n",
    "        # shape using only the contour\n",
    "        M = cv2.moments(c)\n",
    "        if not (M[\"m10\"] and M[\"m00\"]): continue\n",
    "            \n",
    "        cX = int((M[\"m10\"] / M[\"m00\"]) * ratio)\n",
    "        cY = int((M[\"m01\"] / M[\"m00\"]) * ratio)\n",
    "        shape = sd.detect(c)\n",
    "        \n",
    "        if shape == 'unidentified': continue\n",
    "            \n",
    "        # multiply the contour (x, y)-coordinates by the resize ratio,\n",
    "        # then draw the contours and the name of the shape on the image\n",
    "        \n",
    "        c = c.astype(\"float\")\n",
    "        c *= ratio\n",
    "        c = c.astype(\"int\")\n",
    "        cv2.drawContours(image, [c], -1, (0, 255, 0), 2)\n",
    "        cv2.putText(image, shape, (cX, cY), cv2.FONT_HERSHEY_SIMPLEX,\n",
    "            0.5, (255, 0, 0), 2)\n",
    "\n",
    "#     show the output image\n",
    "#     cv2.imwrite(\"../output/image_{}.png\".format(frame_counter), image)\n",
    "    if get_size is None:\n",
    "        res = image.shape[:2], image\n",
    "    \n",
    "    else: res = (image)\n",
    "        \n",
    "    return res"
   ]
  },
  {
   "cell_type": "code",
   "execution_count": 21,
   "metadata": {},
   "outputs": [
    {
     "data": {
      "text/plain": [
       "3481"
      ]
     },
     "execution_count": 21,
     "metadata": {},
     "output_type": "execute_result"
    }
   ],
   "source": [
    "cap = cv2.VideoCapture('../input/wireframe.mp4')\n",
    "\n",
    "f = 0\n",
    "ret = True\n",
    "to_use = range(0,4000,100)\n",
    "\n",
    "get_size = None\n",
    "imgs = []\n",
    "\n",
    "while ret:\n",
    "    ret, frame = cap.read()\n",
    "    if frame is not None:\n",
    "        res = detect(frame,f,get_size)\n",
    "        \n",
    "        if len(res) == 2:\n",
    "            get_size = res[0]\n",
    "            img = res[1]\n",
    "            \n",
    "        else:\n",
    "            img = res[0]\n",
    "            \n",
    "        imgs.append(img)\n",
    "            \n",
    "    f += 1\n",
    "cap.release()\n",
    "f"
   ]
  },
  {
   "cell_type": "code",
   "execution_count": 22,
   "metadata": {},
   "outputs": [],
   "source": [
    "fourcc = cv2.VideoWriter_fourcc(*'MJPG')\n",
    "out = cv2.VideoWriter('../output/wireframe.avi',fourcc, 30.0, get_size)\n",
    "\n",
    "for img in imgs:\n",
    "    out.write(img)"
   ]
  },
  {
   "cell_type": "code",
   "execution_count": 23,
   "metadata": {},
   "outputs": [
    {
     "data": {
      "text/plain": [
       "(360, 640)"
      ]
     },
     "execution_count": 23,
     "metadata": {},
     "output_type": "execute_result"
    }
   ],
   "source": [
    "get_size"
   ]
  },
  {
   "cell_type": "code",
   "execution_count": 24,
   "metadata": {},
   "outputs": [
    {
     "data": {
      "text/plain": [
       "(360, 640, 3)"
      ]
     },
     "execution_count": 24,
     "metadata": {},
     "output_type": "execute_result"
    }
   ],
   "source": [
    "imgs[0].shape"
   ]
  },
  {
   "cell_type": "code",
   "execution_count": null,
   "metadata": {},
   "outputs": [],
   "source": []
  }
 ],
 "metadata": {
  "kernelspec": {
   "display_name": "Python 3",
   "language": "python",
   "name": "python3"
  },
  "language_info": {
   "codemirror_mode": {
    "name": "ipython",
    "version": 3
   },
   "file_extension": ".py",
   "mimetype": "text/x-python",
   "name": "python",
   "nbconvert_exporter": "python",
   "pygments_lexer": "ipython3",
   "version": "3.6.6"
  }
 },
 "nbformat": 4,
 "nbformat_minor": 2
}
